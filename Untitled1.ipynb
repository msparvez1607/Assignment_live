{
 "cells": [
  {
   "cell_type": "code",
   "execution_count": 7,
   "id": "f9e40200-27b7-4a51-9df6-26c8647da454",
   "metadata": {},
   "outputs": [],
   "source": [
    "def command():\n",
    "    n=int(input('Number of elements in a list'))\n",
    "    l1=[int(input('Enter element in a list')) for i in range(0,n)]\n",
    "    return l1"
   ]
  },
  {
   "cell_type": "code",
   "execution_count": 8,
   "id": "a2b438e6-fe81-4464-941d-a1c374d23a02",
   "metadata": {},
   "outputs": [
    {
     "name": "stdin",
     "output_type": "stream",
     "text": [
      "Number of elements in a list 2\n",
      "Enter element in a list 4\n",
      "Enter element in a list 5\n"
     ]
    },
    {
     "data": {
      "text/plain": [
       "[4, 5]"
      ]
     },
     "execution_count": 8,
     "metadata": {},
     "output_type": "execute_result"
    }
   ],
   "source": [
    "command()"
   ]
  },
  {
   "cell_type": "code",
   "execution_count": 12,
   "id": "34d4f102-991a-4a7f-8a74-448a7f299f67",
   "metadata": {},
   "outputs": [],
   "source": [
    "def only_numeric(l1):\n",
    "    l2=[]\n",
    "    for items in l1:\n",
    "        if type(items)==int or type(items)==float:\n",
    "         l2.append(items)\n",
    "    return l2"
   ]
  },
  {
   "cell_type": "code",
   "execution_count": 13,
   "id": "d55956b8-6404-4dd2-b5ed-76cf69362b52",
   "metadata": {},
   "outputs": [
    {
     "data": {
      "text/plain": [
       "[1, 2, 2.2]"
      ]
     },
     "execution_count": 13,
     "metadata": {},
     "output_type": "execute_result"
    }
   ],
   "source": [
    "only_numeric([1,2,2.2,True,'Ram'])"
   ]
  },
  {
   "cell_type": "code",
   "execution_count": null,
   "id": "7e267c18-3f75-41cb-9bc1-cc8fef38c0c7",
   "metadata": {},
   "outputs": [],
   "source": []
  }
 ],
 "metadata": {
  "kernelspec": {
   "display_name": "Python 3 (ipykernel)",
   "language": "python",
   "name": "python3"
  },
  "language_info": {
   "codemirror_mode": {
    "name": "ipython",
    "version": 3
   },
   "file_extension": ".py",
   "mimetype": "text/x-python",
   "name": "python",
   "nbconvert_exporter": "python",
   "pygments_lexer": "ipython3",
   "version": "3.10.8"
  }
 },
 "nbformat": 4,
 "nbformat_minor": 5
}
